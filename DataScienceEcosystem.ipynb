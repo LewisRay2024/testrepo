{
  "metadata": {
    "kernelspec": {
      "name": "python",
      "display_name": "Python (Pyodide)",
      "language": "python"
    },
    "language_info": {
      "codemirror_mode": {
        "name": "python",
        "version": 3
      },
      "file_extension": ".py",
      "mimetype": "text/x-python",
      "name": "python",
      "nbconvert_exporter": "python",
      "pygments_lexer": "ipython3",
      "version": "3.8"
    }
  },
  "nbformat_minor": 4,
  "nbformat": 4,
  "cells": [
    {
      "cell_type": "code",
      "source": "# H1 : Data Science Tools and Ecosystem",
      "metadata": {
        "trusted": true
      },
      "outputs": [],
      "execution_count": null
    },
    {
      "cell_type": "code",
      "source": "In this notebook, Data Science Tools and Ecosystem are summarized.",
      "metadata": {
        "trusted": true
      },
      "outputs": [],
      "execution_count": null
    },
    {
      "cell_type": "markdown",
      "source": "#Some of the popular languages that Data Scientists use are:\n1. Python\n2. R\n3. Java",
      "metadata": {}
    },
    {
      "cell_type": "markdown",
      "source": "#Some of the commonly used libraries used by Data Scientists include:\n1. Pandas\n2. Numpy\n3. Tensorflow",
      "metadata": {}
    },
    {
      "cell_type": "markdown",
      "source": "# a markdown cell with a table of Data Science tools\n\n| Data Science Tools |\n| -------------|\n| Jupiter NoteBook |\n| Ananconda|\n| Pytorch |",
      "metadata": {}
    },
    {
      "cell_type": "markdown",
      "source": "### H3 : Below are a few examples of evaluating arithmetic expressions in Python\n",
      "metadata": {}
    },
    {
      "cell_type": "code",
      "source": "#T his a simple arithmetic expression to mutiply then add integers",
      "metadata": {
        "trusted": true
      },
      "outputs": [],
      "execution_count": null
    },
    {
      "cell_type": "code",
      "source": "(3*4)+5",
      "metadata": {
        "trusted": true
      },
      "outputs": [
        {
          "execution_count": 3,
          "output_type": "execute_result",
          "data": {
            "text/plain": "17"
          },
          "metadata": {}
        }
      ],
      "execution_count": 3
    },
    {
      "cell_type": "markdown",
      "source": "# This will convert 200 minutes to hours by diving by 60",
      "metadata": {}
    },
    {
      "cell_type": "code",
      "source": "200/60",
      "metadata": {
        "trusted": true
      },
      "outputs": [
        {
          "execution_count": 4,
          "output_type": "execute_result",
          "data": {
            "text/plain": "3.3333333333333335"
          },
          "metadata": {}
        }
      ],
      "execution_count": 4
    },
    {
      "cell_type": "markdown",
      "source": "**Objectives:**",
      "metadata": {}
    },
    {
      "cell_type": "markdown",
      "source": "- Python: A general-purpose language with a simple syntax that is easy to learn. It is used for data analysis, machine learning, and data visualization. \n- SQL: A language for working with databases that is essential for data retrieval, manipulation, and analysis. It is used to query and extract information from large datasets. \n- Scala: An object-oriented language that is well suited for working with high-volume data sets. It is compatible with Java, which can open up opportunities for data scientists. \n- R: A statistical language that is popular for data science. \n- Julia: A programming language that is popular for data science. \n- Java: A programming language that is popular for big data. \n- C/C++: A programming language that is popular for data science. \n- Swift: A programming language that is popular for data science. \n- Go: A programming language that is popular for big data. \n\n",
      "metadata": {}
    },
    {
      "cell_type": "markdown",
      "source": "## H2 : Author \nLakshmi Holla\n\nNiveditha Pandith",
      "metadata": {}
    },
    {
      "cell_type": "code",
      "source": "",
      "metadata": {
        "trusted": true
      },
      "outputs": [],
      "execution_count": null
    }
  ]
}